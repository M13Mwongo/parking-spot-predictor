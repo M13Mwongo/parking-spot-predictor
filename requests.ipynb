{
 "cells": [
  {
   "cell_type": "code",
   "execution_count": 1,
   "metadata": {},
   "outputs": [
    {
     "data": {
      "text/plain": [
       "True"
      ]
     },
     "execution_count": 1,
     "metadata": {},
     "output_type": "execute_result"
    }
   ],
   "source": [
    "import pandas as pd\n",
    "from datetime import datetime, timedelta\n",
    "import json\n",
    "import requests\n",
    "import dotenv\n",
    "import os\n",
    "\n",
    "dotenv.load_dotenv(\".env\")"
   ]
  },
  {
   "cell_type": "code",
   "execution_count": 8,
   "metadata": {},
   "outputs": [
    {
     "data": {
      "text/html": [
       "<div>\n",
       "<style scoped>\n",
       "    .dataframe tbody tr th:only-of-type {\n",
       "        vertical-align: middle;\n",
       "    }\n",
       "\n",
       "    .dataframe tbody tr th {\n",
       "        vertical-align: top;\n",
       "    }\n",
       "\n",
       "    .dataframe thead th {\n",
       "        text-align: right;\n",
       "    }\n",
       "</style>\n",
       "<table border=\"1\" class=\"dataframe\">\n",
       "  <thead>\n",
       "    <tr style=\"text-align: right;\">\n",
       "      <th></th>\n",
       "      <th>tsn</th>\n",
       "      <th>time</th>\n",
       "      <th>spots</th>\n",
       "      <th>zones</th>\n",
       "      <th>ParkID</th>\n",
       "      <th>occupancy</th>\n",
       "      <th>MessageDate</th>\n",
       "      <th>facility_id</th>\n",
       "      <th>facility_name</th>\n",
       "      <th>tfnsw_facility_id</th>\n",
       "    </tr>\n",
       "  </thead>\n",
       "  <tbody>\n",
       "    <tr>\n",
       "      <th>0</th>\n",
       "      <td>207210</td>\n",
       "      <td>754664994</td>\n",
       "      <td>213</td>\n",
       "      <td>[{'spots': '213', 'zone_id': '1', 'occupancy':...</td>\n",
       "      <td>1</td>\n",
       "      <td>{'loop': None, 'total': '9', 'monthlies': None...</td>\n",
       "      <td>2023-12-01T00:09:54</td>\n",
       "      <td>6</td>\n",
       "      <td>Gordon Henry St North Car Park</td>\n",
       "      <td>207210TPR001</td>\n",
       "    </tr>\n",
       "    <tr>\n",
       "      <th>1</th>\n",
       "      <td>207210</td>\n",
       "      <td>754665748</td>\n",
       "      <td>213</td>\n",
       "      <td>[{'spots': '213', 'zone_id': '1', 'occupancy':...</td>\n",
       "      <td>1</td>\n",
       "      <td>{'loop': None, 'total': '8', 'monthlies': None...</td>\n",
       "      <td>2023-12-01T00:22:28</td>\n",
       "      <td>6</td>\n",
       "      <td>Gordon Henry St North Car Park</td>\n",
       "      <td>207210TPR001</td>\n",
       "    </tr>\n",
       "    <tr>\n",
       "      <th>2</th>\n",
       "      <td>207210</td>\n",
       "      <td>754666073</td>\n",
       "      <td>213</td>\n",
       "      <td>[{'spots': '213', 'zone_id': '1', 'occupancy':...</td>\n",
       "      <td>1</td>\n",
       "      <td>{'loop': None, 'total': '7', 'monthlies': None...</td>\n",
       "      <td>2023-12-01T00:27:53</td>\n",
       "      <td>6</td>\n",
       "      <td>Gordon Henry St North Car Park</td>\n",
       "      <td>207210TPR001</td>\n",
       "    </tr>\n",
       "    <tr>\n",
       "      <th>3</th>\n",
       "      <td>207210</td>\n",
       "      <td>754666646</td>\n",
       "      <td>213</td>\n",
       "      <td>[{'spots': '213', 'zone_id': '1', 'occupancy':...</td>\n",
       "      <td>1</td>\n",
       "      <td>{'loop': None, 'total': '6', 'monthlies': None...</td>\n",
       "      <td>2023-12-01T00:37:26</td>\n",
       "      <td>6</td>\n",
       "      <td>Gordon Henry St North Car Park</td>\n",
       "      <td>207210TPR001</td>\n",
       "    </tr>\n",
       "    <tr>\n",
       "      <th>4</th>\n",
       "      <td>207210</td>\n",
       "      <td>754667165</td>\n",
       "      <td>213</td>\n",
       "      <td>[{'spots': '213', 'zone_id': '1', 'occupancy':...</td>\n",
       "      <td>1</td>\n",
       "      <td>{'loop': None, 'total': '5', 'monthlies': None...</td>\n",
       "      <td>2023-12-01T00:46:05</td>\n",
       "      <td>6</td>\n",
       "      <td>Gordon Henry St North Car Park</td>\n",
       "      <td>207210TPR001</td>\n",
       "    </tr>\n",
       "  </tbody>\n",
       "</table>\n",
       "</div>"
      ],
      "text/plain": [
       "      tsn       time spots                                              zones  \\\n",
       "0  207210  754664994   213  [{'spots': '213', 'zone_id': '1', 'occupancy':...   \n",
       "1  207210  754665748   213  [{'spots': '213', 'zone_id': '1', 'occupancy':...   \n",
       "2  207210  754666073   213  [{'spots': '213', 'zone_id': '1', 'occupancy':...   \n",
       "3  207210  754666646   213  [{'spots': '213', 'zone_id': '1', 'occupancy':...   \n",
       "4  207210  754667165   213  [{'spots': '213', 'zone_id': '1', 'occupancy':...   \n",
       "\n",
       "  ParkID                                          occupancy  \\\n",
       "0      1  {'loop': None, 'total': '9', 'monthlies': None...   \n",
       "1      1  {'loop': None, 'total': '8', 'monthlies': None...   \n",
       "2      1  {'loop': None, 'total': '7', 'monthlies': None...   \n",
       "3      1  {'loop': None, 'total': '6', 'monthlies': None...   \n",
       "4      1  {'loop': None, 'total': '5', 'monthlies': None...   \n",
       "\n",
       "           MessageDate facility_id                   facility_name  \\\n",
       "0  2023-12-01T00:09:54           6  Gordon Henry St North Car Park   \n",
       "1  2023-12-01T00:22:28           6  Gordon Henry St North Car Park   \n",
       "2  2023-12-01T00:27:53           6  Gordon Henry St North Car Park   \n",
       "3  2023-12-01T00:37:26           6  Gordon Henry St North Car Park   \n",
       "4  2023-12-01T00:46:05           6  Gordon Henry St North Car Park   \n",
       "\n",
       "  tfnsw_facility_id  \n",
       "0      207210TPR001  \n",
       "1      207210TPR001  \n",
       "2      207210TPR001  \n",
       "3      207210TPR001  \n",
       "4      207210TPR001  "
      ]
     },
     "execution_count": 8,
     "metadata": {},
     "output_type": "execute_result"
    }
   ],
   "source": [
    "folder_path = './data/carpark_history_3_months'\n",
    "df_combined = pd.DataFrame()\n",
    "\n",
    "for facility_id in range(6,34):\n",
    "  # Retrieve file\n",
    "  file = f\"{folder_path}/facility_{facility_id}.json\"\n",
    "  \n",
    "  # Read file\n",
    "  with open(file) as f:\n",
    "    data = json.load(f)\n",
    "    df = pd.DataFrame(data)\n",
    "    df_combined = pd.concat([df_combined, df], ignore_index=True)\n",
    "\n",
    "df_combined.head() \n"
   ]
  },
  {
   "cell_type": "code",
   "execution_count": 9,
   "metadata": {},
   "outputs": [
    {
     "name": "stdout",
     "output_type": "stream",
     "text": [
      "<class 'pandas.core.frame.DataFrame'>\n",
      "RangeIndex: 503032 entries, 0 to 503031\n",
      "Data columns (total 10 columns):\n",
      " #   Column             Non-Null Count   Dtype \n",
      "---  ------             --------------   ----- \n",
      " 0   tsn                503032 non-null  object\n",
      " 1   time               503032 non-null  object\n",
      " 2   spots              503032 non-null  object\n",
      " 3   zones              503032 non-null  object\n",
      " 4   ParkID             503032 non-null  object\n",
      " 5   occupancy          503032 non-null  object\n",
      " 6   MessageDate        503032 non-null  object\n",
      " 7   facility_id        503032 non-null  object\n",
      " 8   facility_name      503032 non-null  object\n",
      " 9   tfnsw_facility_id  503032 non-null  object\n",
      "dtypes: object(10)\n",
      "memory usage: 38.4+ MB\n"
     ]
    }
   ],
   "source": [
    "df_combined.info()"
   ]
  },
  {
   "cell_type": "code",
   "execution_count": 14,
   "metadata": {},
   "outputs": [
    {
     "data": {
      "text/plain": [
       "array(['207210TPR001', '253330TPR001', '225040TPR001', '221210TPR001',\n",
       "       '2101131TPR001', '2101130TPR001', '2103108TPR001', '2099207TPR001',\n",
       "       '211420TPR001', '223210TPR001', '217933TPR001', '217426TPR001',\n",
       "       '276010TPR001', '256020TPR001', '25602TPR002', '275010TPR001',\n",
       "       '275010TPR002', '217010TPR001', '276220TPR001', '207720TPR001',\n",
       "       '2155384TPR001', '2155384TPR002', '2155384TPR003', '2155382TPR001',\n",
       "       '2155382TPR002', '2153478TPR001', '2154392TPR001', '2126158TPR001'],\n",
       "      dtype=object)"
      ]
     },
     "execution_count": 14,
     "metadata": {},
     "output_type": "execute_result"
    }
   ],
   "source": [
    "uniques = df_combined['tfnsw_facility_id'].unique()\n",
    "uniques"
   ]
  },
  {
   "cell_type": "code",
   "execution_count": 15,
   "metadata": {},
   "outputs": [
    {
     "data": {
      "text/plain": [
       "28"
      ]
     },
     "execution_count": 15,
     "metadata": {},
     "output_type": "execute_result"
    }
   ],
   "source": [
    "len(uniques)"
   ]
  },
  {
   "cell_type": "code",
   "execution_count": null,
   "metadata": {},
   "outputs": [],
   "source": []
  }
 ],
 "metadata": {
  "kernelspec": {
   "display_name": "mwiti-base",
   "language": "python",
   "name": "python3"
  },
  "language_info": {
   "codemirror_mode": {
    "name": "ipython",
    "version": 3
   },
   "file_extension": ".py",
   "mimetype": "text/x-python",
   "name": "python",
   "nbconvert_exporter": "python",
   "pygments_lexer": "ipython3",
   "version": "3.11.4"
  }
 },
 "nbformat": 4,
 "nbformat_minor": 2
}
