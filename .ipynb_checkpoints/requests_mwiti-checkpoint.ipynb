{
 "cells": [
  {
   "cell_type": "code",
   "execution_count": 1,
   "metadata": {},
   "outputs": [
    {
     "data": {
      "text/plain": [
       "True"
      ]
     },
     "execution_count": 1,
     "metadata": {},
     "output_type": "execute_result"
    }
   ],
   "source": [
    "import pandas as pd\n",
    "from datetime import datetime, timedelta\n",
    "import json\n",
    "import requests\n",
    "import dotenv\n",
    "import os\n",
    "\n",
    "dotenv.load_dotenv(\".env\")"
   ]
  },
  {
   "cell_type": "code",
   "execution_count": 2,
   "metadata": {},
   "outputs": [],
   "source": [
    "def date_getter(td):\n",
    "  # Array that stores the dates to be searched for\n",
    "  date_period_array = []\n",
    "\n",
    "  # The last date to be searched for\n",
    "  cutoff_date = datetime(2023, 12, 31)\n",
    "  target_date = cutoff_date - td\n",
    "\n",
    "  # Ensure that records of each day are obtained\n",
    "  delta = timedelta(days=1)\n",
    "\n",
    "  while target_date <= cutoff_date:\n",
    "    date_period_array.append(target_date.strftime(\"%Y-%m-%d\"))\n",
    "    target_date += delta\n",
    "\n",
    "  return date_period_array"
   ]
  },
  {
   "cell_type": "code",
   "execution_count": 3,
   "metadata": {},
   "outputs": [],
   "source": [
    "def carpark_history_period(facility, dates_array):\n",
    "    data_array = []\n",
    "    json_file_path = f\"./data/carpark_history_3_months/facility_{facility}.json\"\n",
    "\n",
    "    # Request header\n",
    "    headers = {\n",
    "        \"Authorization\": f\"apikey {os.environ.get('apikey')}\"\n",
    "    }\n",
    "\n",
    "    # Deleting file if it exists\n",
    "    if os.path.exists(json_file_path):\n",
    "        os.remove(json_file_path)\n",
    "\n",
    "    # Make a request for each date\n",
    "    for date in dates_array:\n",
    "        url = f'https://api.transport.nsw.gov.au/v1/carpark/history?facility={facility}&eventdate={date}'\n",
    "\n",
    "        response = requests.get(url, headers=headers).json()\n",
    "\n",
    "        if data_array == []:\n",
    "            data_array = response\n",
    "        else:\n",
    "            data_array = data_array + response\n",
    "\n",
    "    # Saving data to json file\n",
    "    with open(json_file_path, 'w') as f:\n",
    "        json.dump(data_array, f)\n",
    "\n",
    "    print(\"Created file for facility\"+str(facility))\n",
    "    # # Reading json file\n",
    "    # with open(json_file_path) as f:\n",
    "    #     data = json.load(f)\n",
    "\n",
    "    # # Converting read data into a pandas dataframe\n",
    "    # return pd.DataFrame(data)"
   ]
  },
  {
   "cell_type": "code",
   "execution_count": 4,
   "metadata": {},
   "outputs": [
    {
     "name": "stdout",
     "output_type": "stream",
     "text": [
      "Created file for facility31\n",
      "Created file for facility32\n",
      "Created file for facility33\n"
     ]
    }
   ],
   "source": [
    "for facility in range(31, 34):\n",
    "    carpark_history_period(facility,date_getter(timedelta(days=91)))"
   ]
  }
 ],
 "metadata": {
  "kernelspec": {
   "display_name": "Python 3 (ipykernel)",
   "language": "python",
   "name": "python3"
  },
  "language_info": {
   "codemirror_mode": {
    "name": "ipython",
    "version": 3
   },
   "file_extension": ".py",
   "mimetype": "text/x-python",
   "name": "python",
   "nbconvert_exporter": "python",
   "pygments_lexer": "ipython3",
   "version": "3.11.4"
  }
 },
 "nbformat": 4,
 "nbformat_minor": 2
}
