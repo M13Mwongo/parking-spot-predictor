{
 "cells": [
  {
   "cell_type": "code",
   "execution_count": 1,
   "metadata": {},
   "outputs": [],
   "source": [
    "#importing libraries\n",
    "import requests \n",
    "import pandas as pd\n",
    "import json\n",
    "from API import API_key\n",
    "import time"
   ]
  },
  {
   "cell_type": "code",
   "execution_count": 2,
   "metadata": {},
   "outputs": [
    {
     "ename": "KeyError",
     "evalue": "'temp2m'",
     "output_type": "error",
     "traceback": [
      "\u001b[0;31m---------------------------------------------------------------------------\u001b[0m",
      "\u001b[0;31mKeyError\u001b[0m                                  Traceback (most recent call last)",
      "Cell \u001b[0;32mIn[2], line 40\u001b[0m\n\u001b[1;32m     37\u001b[0m end_epoch \u001b[38;5;241m=\u001b[39m \u001b[38;5;241m1609372800\u001b[39m    \u001b[38;5;66;03m# Example: December 31, 2020\u001b[39;00m\n\u001b[1;32m     39\u001b[0m \u001b[38;5;66;03m# Get weather information and print it\u001b[39;00m\n\u001b[0;32m---> 40\u001b[0m \u001b[43mget_weather\u001b[49m\u001b[43m(\u001b[49m\u001b[43mkey\u001b[49m\u001b[43m,\u001b[49m\u001b[43m \u001b[49m\u001b[38;5;124;43m\"\u001b[39;49m\u001b[38;5;124;43mSydney\u001b[39;49m\u001b[38;5;124;43m\"\u001b[39;49m\u001b[43m,\u001b[49m\u001b[43m \u001b[49m\u001b[38;5;124;43m\"\u001b[39;49m\u001b[38;5;124;43m2024-01-01\u001b[39;49m\u001b[38;5;124;43m\"\u001b[39;49m\u001b[43m,\u001b[49m\u001b[43m \u001b[49m\u001b[38;5;124;43m\"\u001b[39;49m\u001b[38;5;124;43m2024-02-01\u001b[39;49m\u001b[38;5;124;43m\"\u001b[39;49m\u001b[43m)\u001b[49m\n",
      "Cell \u001b[0;32mIn[2], line 18\u001b[0m, in \u001b[0;36mget_weather\u001b[0;34m(api_key, location, start_epoch, end_epoch)\u001b[0m\n\u001b[1;32m     16\u001b[0m \u001b[38;5;28;01mfor\u001b[39;00m record \u001b[38;5;129;01min\u001b[39;00m weather_data[\u001b[38;5;124m'\u001b[39m\u001b[38;5;124mdays\u001b[39m\u001b[38;5;124m'\u001b[39m]:\n\u001b[1;32m     17\u001b[0m     date \u001b[38;5;241m=\u001b[39m record[\u001b[38;5;124m'\u001b[39m\u001b[38;5;124mdatetime\u001b[39m\u001b[38;5;124m'\u001b[39m]\n\u001b[0;32m---> 18\u001b[0m     temperature \u001b[38;5;241m=\u001b[39m \u001b[43mrecord\u001b[49m\u001b[43m[\u001b[49m\u001b[38;5;124;43m'\u001b[39;49m\u001b[38;5;124;43mtemp2m\u001b[39;49m\u001b[38;5;124;43m'\u001b[39;49m\u001b[43m]\u001b[49m\n\u001b[1;32m     19\u001b[0m     description \u001b[38;5;241m=\u001b[39m record[\u001b[38;5;124m'\u001b[39m\u001b[38;5;124mconditions\u001b[39m\u001b[38;5;124m'\u001b[39m]\n\u001b[1;32m     22\u001b[0m     \u001b[38;5;66;03m# Print or process the information as needed\u001b[39;00m\n",
      "\u001b[0;31mKeyError\u001b[0m: 'temp2m'"
     ]
    }
   ],
   "source": [
    "key = API_key()\n",
    "# location = \"Sydney\"\n",
    "def get_weather(api_key, location, start_epoch, end_epoch):\n",
    "    # Visual Crossing Weather API endpoint for timeline weather data\n",
    "    url = f\"https://weather.visualcrossing.com/VisualCrossingWebServices/rest/services/timeline/{location}/{start_epoch}/{end_epoch}?key={api_key}\"\n",
    "\n",
    "    # Make the API request\n",
    "    response = requests.get(url)\n",
    "\n",
    "    # Check if the request was successful (status code 200)\n",
    "    if response.status_code == 200:\n",
    "        # Parse the JSON response\n",
    "        weather_data = response.json()\n",
    "        time.sleep(3)\n",
    "        # Extract relevant information (customize as needed)\n",
    "        for record in weather_data['days']:\n",
    "            date = record['datetime']\n",
    "            temperature = record['temp2m']\n",
    "            description = record['conditions']\n",
    "            \n",
    "\n",
    "            # Print or process the information as needed\n",
    "            print(f\"Date: {date}, Temperature: {temperature}°C, Description: {description}\")\n",
    "    else:\n",
    "        # Print an error message if the request was unsuccessful\n",
    "        print(f\"Error: Unable to fetch weather data. Status code: {response.status_code}\")\n",
    "\n",
    "if __name__ == \"__main__\":\n",
    "    # Replace 'YOUR_API_KEY' with your actual Visual Crossing Weather API key\n",
    "    api_key = 'YOUR_API_KEY'\n",
    "    \n",
    "    # Specify the location (e.g., 'London,UK')\n",
    "    location = 'London,UK'\n",
    "\n",
    "    # Specify the start and end epochs (in seconds)\n",
    "    start_epoch = 1601510400  # Example: October 1, 2020\n",
    "    end_epoch = 1609372800    # Example: December 31, 2020\n",
    "\n",
    "    # Get weather information and print it\n",
    "    get_weather(key, \"Sydney\", \"2024-01-01\", \"2024-02-01\")\n",
    "\n"
   ]
  },
  {
   "cell_type": "code",
   "execution_count": null,
   "metadata": {},
   "outputs": [],
   "source": []
  }
 ],
 "metadata": {
  "kernelspec": {
   "display_name": "Python 3",
   "language": "python",
   "name": "python3"
  },
  "language_info": {
   "codemirror_mode": {
    "name": "ipython",
    "version": 3
   },
   "file_extension": ".py",
   "mimetype": "text/x-python",
   "name": "python",
   "nbconvert_exporter": "python",
   "pygments_lexer": "ipython3",
   "version": "3.10.12"
  }
 },
 "nbformat": 4,
 "nbformat_minor": 2
}
