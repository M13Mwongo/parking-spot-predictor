{
 "cells": [
  {
   "cell_type": "code",
   "execution_count": 14,
   "metadata": {},
   "outputs": [],
   "source": [
    "#importing libraries\n",
    "import requests \n",
    "import pandas as pd\n",
    "import json\n",
    "from API import API_key\n",
    "import time"
   ]
  },
  {
   "cell_type": "code",
   "execution_count": 16,
   "metadata": {},
   "outputs": [
    {
     "name": "stdout",
     "output_type": "stream",
     "text": [
      "Error: Unable to fetch weather data. Status code: 429\n"
     ]
    }
   ],
   "source": [
    "key = API_key()\n",
    "# location = \"Sydney\"\n",
    "def get_weather(api_key, location, start_epoch, end_epoch):\n",
    "    # Visual Crossing Weather API endpoint for timeline weather data\n",
    "    url = f\"https://weather.visualcrossing.com/VisualCrossingWebServices/rest/services/timeline/{location}/{start_epoch}/{end_epoch}?key={api_key}\"\n",
    "\n",
    "    # Make the API request\n",
    "    response = requests.get(url)\n",
    "\n",
    "    # Check if the request was successful (status code 200)\n",
    "    if response.status_code == 200:\n",
    "        # Parse the JSON response\n",
    "        weather_data = response.json()\n",
    "        time.sleep(3)\n",
    "        # Extract relevant information (customize as needed)\n",
    "        for record in weather_data['days']:\n",
    "            date = record['datetime']\n",
    "            temperature = record['temp2m']\n",
    "            description = record['conditions']\n",
    "            \n",
    "\n",
    "            # Print or process the information as needed\n",
    "            print(f\"Date: {date}, Temperature: {temperature}°C, Description: {description}\")\n",
    "    else:\n",
    "        # Print an error message if the request was unsuccessful\n",
    "        print(f\"Error: Unable to fetch weather data. Status code: {response.status_code}\")\n",
    "\n",
    "if __name__ == \"__main__\":\n",
    "    # Replace 'YOUR_API_KEY' with your actual Visual Crossing Weather API key\n",
    "    api_key = 'YOUR_API_KEY'\n",
    "    \n",
    "    # Specify the location (e.g., 'London,UK')\n",
    "    location = 'London,UK'\n",
    "\n",
    "    # Specify the start and end epochs (in seconds)\n",
    "    start_epoch = 1601510400  # Example: October 1, 2020\n",
    "    end_epoch = 1609372800    # Example: December 31, 2020\n",
    "\n",
    "    # Get weather information and print it\n",
    "    get_weather(key, \"Sydney\", \"2024-01-01\", \"2024-02-01\")\n",
    "\n"
   ]
  },
  {
   "cell_type": "code",
   "execution_count": null,
   "metadata": {},
   "outputs": [],
   "source": []
  }
 ],
 "metadata": {
  "kernelspec": {
   "display_name": "Python 3",
   "language": "python",
   "name": "python3"
  },
  "language_info": {
   "codemirror_mode": {
    "name": "ipython",
    "version": 3
   },
   "file_extension": ".py",
   "mimetype": "text/x-python",
   "name": "python",
   "nbconvert_exporter": "python",
   "pygments_lexer": "ipython3",
   "version": "3.10.12"
  }
 },
 "nbformat": 4,
 "nbformat_minor": 2
}
